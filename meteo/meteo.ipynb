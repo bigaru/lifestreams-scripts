{
 "cells": [
  {
   "cell_type": "markdown",
   "metadata": {},
   "source": [
    "https://data.geo.admin.ch/browser/index.html#/collections/ch.meteoschweiz.ogd-smn/items/klo\n",
    "https://data.geo.admin.ch/browser/index.html#/collections/ch.meteoschweiz.ogd-pollen/items/pzh"
   ]
  },
  {
   "cell_type": "code",
   "execution_count": 1,
   "metadata": {},
   "outputs": [],
   "source": [
    "import numpy as np\n",
    "import pandas as pd\n",
    "import json\n",
    "import glob\n",
    "import pandas as pd\n",
    "from datetime import timedelta, datetime"
   ]
  },
  {
   "cell_type": "code",
   "execution_count": null,
   "metadata": {},
   "outputs": [
    {
     "name": "stdout",
     "output_type": "stream",
     "text": [
      "0 tre200h0\n",
      "1 rre150h0\n",
      "2 pp0qffh0\n"
     ]
    }
   ],
   "source": [
    "df = pd.read_csv('data/ogd-smn_klo_h_recent.csv', delimiter=';')\n",
    "df['timestamp'] = pd.to_datetime(df['reference_timestamp'], format=\"%d.%m.%Y %H:%M\")\n",
    "\n",
    "# tre200h0;\"Lufttemperatur 2 m über Boden; Stundenmittel\"\n",
    "# rre150h0;\"Niederschlag; Stundensumme\"\n",
    "# pp0qffh0;\"Luftdruck reduziert auf Meeresniveau (QFF);\n",
    "\n",
    "# khpoach0;\"Gräser; mittlere stündliche Pollenkonzentration\"\n",
    "\n",
    "for idx, type in enumerate(['tre200h0', 'rre150h0', 'pp0qffh0']):\n",
    "    print(idx, type)\n",
    "\n",
    "    df_file = df[['timestamp', type]]\n",
    "    df_file = df_file.rename(columns={type: \"reading\"})\n",
    "\n",
    "    df_file['subject_id'] = 4020332650\n",
    "    df_file['data_type'] = 10 + idx\n",
    "    df_file.to_csv(f\"csv/meteo_{type}.csv\", columns=['subject_id', 'timestamp', 'reading', 'data_type'], index=False, header=False)\n",
    "\n",
    "#df = df[df[\"timestamp\"].dt.year == 2025]\n",
    "#df = df[df[\"timestamp\"].dt.month == 1]\n",
    "#df\n",
    "\n"
   ]
  }
 ],
 "metadata": {
  "kernelspec": {
   "display_name": "venv",
   "language": "python",
   "name": "python3"
  },
  "language_info": {
   "codemirror_mode": {
    "name": "ipython",
    "version": 3
   },
   "file_extension": ".py",
   "mimetype": "text/x-python",
   "name": "python",
   "nbconvert_exporter": "python",
   "pygments_lexer": "ipython3",
   "version": "3.11.11"
  }
 },
 "nbformat": 4,
 "nbformat_minor": 2
}

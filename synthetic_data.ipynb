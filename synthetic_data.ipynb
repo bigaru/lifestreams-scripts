{
 "cells": [
  {
   "cell_type": "markdown",
   "metadata": {},
   "source": [
    "Tools\n",
    "- [Copulas](https://sdv.dev/Copulas/index.html)\n",
    "- Numpy\n"
   ]
  },
  {
   "cell_type": "code",
   "execution_count": null,
   "metadata": {},
   "outputs": [],
   "source": [
    "%pip install numpy pandas matplotlib psycopg2"
   ]
  },
  {
   "cell_type": "code",
   "execution_count": 12,
   "metadata": {},
   "outputs": [],
   "source": [
    "import numpy as np\n",
    "import pandas as pd\n",
    "import matplotlib.pyplot as plt\n",
    "import io"
   ]
  },
  {
   "cell_type": "markdown",
   "metadata": {},
   "source": [
    "Template to generate data using normal distribution"
   ]
  },
  {
   "cell_type": "code",
   "execution_count": 3,
   "metadata": {},
   "outputs": [
    {
     "name": "stdout",
     "output_type": "stream",
     "text": [
      "[125.13896329  83.33549345  88.45064363  91.34173322 112.79441006\n",
      "  89.05217455  73.71674475  62.18200157  82.53847126  93.27803989]\n"
     ]
    }
   ],
   "source": [
    "mean = 0          # Mean (μ)\n",
    "std_dev = 1       # Standard deviation (σ)\n",
    "sample_size = 1000\n",
    "\n",
    "data = np.random.normal(loc=mean, scale=std_dev, size=sample_size)\n",
    "\n",
    "print(data[:10])"
   ]
  },
  {
   "cell_type": "code",
   "execution_count": 14,
   "metadata": {},
   "outputs": [
    {
     "name": "stdout",
     "output_type": "stream",
     "text": [
      "   subject_id             datetime     reading\n",
      "0           1  2025-01-01 00:00:00  101.709086\n",
      "1           1  2025-01-02 00:00:00   83.901030\n",
      "2           1  2025-01-03 00:00:00   96.980613\n",
      "3           1  2025-01-04 00:00:00  103.326948\n",
      "4           1  2025-01-05 00:00:00   94.593801\n",
      "5           1  2025-01-06 00:00:00  109.057325\n",
      "6           1  2025-01-07 00:00:00  100.794202\n",
      "7           1  2025-01-08 00:00:00   89.871521\n",
      "8           1  2025-01-09 00:00:00   88.848135\n",
      "9           1  2025-01-10 00:00:00   97.995166\n"
     ]
    }
   ],
   "source": [
    "mean = 100\n",
    "std_dev = 15\n",
    "num_samples = 1000\n",
    "time = pd.date_range(start='2025-01-01', periods=num_samples, freq='D')\n",
    "time = time.strftime('%Y-%m-%d %H:%M:%S')\n",
    "\n",
    "synthetic_glucose = np.random.normal(loc=mean, scale=std_dev, size=num_samples)\n",
    "df = pd.DataFrame({'subject_id': 1, 'data_type': 1,'datetime': time, 'reading': synthetic_glucose})\n",
    "\n",
    "# plt.figure(figsize=(10, 6))\n",
    "# plt.plot(df['Date'], df['Glucose_Level'], label='Glucose Levels')\n",
    "# plt.title('Glucose Level Time Series')\n",
    "# plt.xlabel('Date')\n",
    "# plt.ylabel('Glucose Level (mg/dL)')\n",
    "# plt.grid(True)\n",
    "# plt.xticks(rotation=45)\n",
    "# plt.legend()\n",
    "# plt.show()\n",
    "\n",
    "print(df.head(10))"
   ]
  },
  {
   "cell_type": "markdown",
   "metadata": {},
   "source": [
    "Data points\n",
    "- Glucose:  90 mg/dL (µ)  15 mg/dL (σ)\n",
    "- Daily Step Counts:  8000 steps/day (µ)  3000 steps/day (σ)"
   ]
  },
  {
   "cell_type": "code",
   "execution_count": null,
   "metadata": {
    "vscode": {
     "languageId": "sql"
    }
   },
   "outputs": [],
   "source": [
    "CREATE TABLE IF NOT EXISTS  readings (\n",
    "    id SERIAL PRIMARY KEY,\n",
    "    subject_id INT,\n",
    "    data_type INT,\n",
    "    datetime TIMESTAMP,\n",
    "    reading DOUBLE PRECISION,\n",
    ");"
   ]
  },
  {
   "cell_type": "code",
   "execution_count": null,
   "metadata": {},
   "outputs": [],
   "source": [
    "import psycopg2\n",
    "from psycopg2 import sql\n",
    "\n",
    "conn = psycopg2.connect(\"dbname=test user=postgres password=secret\")\n",
    "cur = conn.cursor()\n",
    "\n",
    "# Data to insert\n",
    "data = [\n",
    "    (1, 'Alice', 'Manager'),\n",
    "    (2, 'Bob', 'Developer'),\n",
    "    (3, 'Charlie', 'Designer')\n",
    "]\n",
    "\n",
    "# Using executemany for bulk insert\n",
    "cur.executemany(\"INSERT INTO employees (id, name, position) VALUES (%s, %s, %s)\", data)\n",
    "\n",
    "conn.commit()\n",
    "cur.close()\n",
    "conn.close()\n",
    "\n",
    "\n",
    "db_params = {\n",
    "    'dbname': 'your_database',\n",
    "    'user': 'your_user',\n",
    "    'password': 'your_password',\n",
    "    'host': 'localhost',\n",
    "    'port': 5432,         \n",
    "}\n",
    "\n",
    "\n",
    "try:\n",
    "    conn = psycopg2.connect(**db_params)\n",
    "    cursor = conn.cursor()\n",
    "\n",
    "    create_table_query = '''\n",
    "    CREATE TABLE IF NOT EXISTS employees (\n",
    "        id SERIAL PRIMARY KEY,\n",
    "        name VARCHAR(100),\n",
    "        position VARCHAR(100),\n",
    "        hire_date DATE\n",
    "    );\n",
    "    '''\n",
    "    \n",
    "    cursor.execute(create_table_query)\n",
    "    conn.commit()\n",
    "\n",
    "except Exception as e:\n",
    "    print(f\"An error occurred: {e}\")\n",
    "\n",
    "finally:\n",
    "    if cursor:\n",
    "        cursor.close()\n",
    "    if conn:\n",
    "        conn.close()"
   ]
  },
  {
   "cell_type": "code",
   "execution_count": null,
   "metadata": {},
   "outputs": [],
   "source": [
    "buffer = io.StringIO()\n",
    "df.to_csv(buffer, index=False, header=False)\n",
    "buffer.seek(0)\n",
    "cursor.copy_from(file=buffer, table=table_name, sep=\",\", null=\"\")"
   ]
  },
  {
   "cell_type": "code",
   "execution_count": null,
   "metadata": {
    "vscode": {
     "languageId": "shellscript"
    }
   },
   "outputs": [],
   "source": [
    "docker run -it --rm --name init-script -v \"$PWD\":/usr/src/app -w /usr/src/app python:3.11 python script_to_run.py\n",
    "docker run -it --rm --name init-script --network superset_default -v \"$PWD\":/usr/src/app -w /usr/src/app python:3.11 /bin/bash -c \"pip install numpy pandas psycopg2 && python myscript.py\""
   ]
  }
 ],
 "metadata": {
  "language_info": {
   "name": "python"
  }
 },
 "nbformat": 4,
 "nbformat_minor": 2
}

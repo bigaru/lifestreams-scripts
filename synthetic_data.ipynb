{
 "cells": [
  {
   "cell_type": "markdown",
   "metadata": {},
   "source": [
    "Tools\n",
    "- [Copulas](https://sdv.dev/Copulas/index.html)\n",
    "- Numpy\n"
   ]
  },
  {
   "cell_type": "code",
   "execution_count": 2,
   "metadata": {},
   "outputs": [
    {
     "name": "stdout",
     "output_type": "stream",
     "text": [
      "Collecting copulas\n",
      "  Using cached copulas-0.12.1-py3-none-any.whl.metadata (9.4 kB)\n",
      "Requirement already satisfied: numpy in ./venv/lib64/python3.11/site-packages (2.2.2)\n",
      "Requirement already satisfied: pandas in ./venv/lib64/python3.11/site-packages (2.2.3)\n",
      "Requirement already satisfied: matplotlib in ./venv/lib64/python3.11/site-packages (3.10.0)\n",
      "Collecting plotly>=5.10.0 (from copulas)\n",
      "  Downloading plotly-6.0.0-py3-none-any.whl.metadata (5.6 kB)\n",
      "Collecting scipy>=1.9.2 (from copulas)\n",
      "  Downloading scipy-1.15.2-cp311-cp311-manylinux_2_17_x86_64.manylinux2014_x86_64.whl.metadata (61 kB)\n",
      "\u001b[2K     \u001b[90m━━━━━━━━━━━━━━━━━━━━━━━━━━━━━━━━━━━━━━━━\u001b[0m \u001b[32m62.0/62.0 kB\u001b[0m \u001b[31m6.1 MB/s\u001b[0m eta \u001b[36m0:00:00\u001b[0m\n",
      "\u001b[?25hRequirement already satisfied: python-dateutil>=2.8.2 in ./venv/lib64/python3.11/site-packages (from pandas) (2.9.0.post0)\n",
      "Requirement already satisfied: pytz>=2020.1 in ./venv/lib64/python3.11/site-packages (from pandas) (2025.1)\n",
      "Requirement already satisfied: tzdata>=2022.7 in ./venv/lib64/python3.11/site-packages (from pandas) (2025.1)\n",
      "Requirement already satisfied: contourpy>=1.0.1 in ./venv/lib64/python3.11/site-packages (from matplotlib) (1.3.1)\n",
      "Requirement already satisfied: cycler>=0.10 in ./venv/lib64/python3.11/site-packages (from matplotlib) (0.12.1)\n",
      "Requirement already satisfied: fonttools>=4.22.0 in ./venv/lib64/python3.11/site-packages (from matplotlib) (4.56.0)\n",
      "Requirement already satisfied: kiwisolver>=1.3.1 in ./venv/lib64/python3.11/site-packages (from matplotlib) (1.4.8)\n",
      "Requirement already satisfied: packaging>=20.0 in ./venv/lib64/python3.11/site-packages (from matplotlib) (24.2)\n",
      "Requirement already satisfied: pillow>=8 in ./venv/lib64/python3.11/site-packages (from matplotlib) (11.1.0)\n",
      "Requirement already satisfied: pyparsing>=2.3.1 in ./venv/lib64/python3.11/site-packages (from matplotlib) (3.2.1)\n",
      "Collecting narwhals>=1.15.1 (from plotly>=5.10.0->copulas)\n",
      "  Downloading narwhals-1.27.1-py3-none-any.whl.metadata (10 kB)\n",
      "Requirement already satisfied: six>=1.5 in ./venv/lib64/python3.11/site-packages (from python-dateutil>=2.8.2->pandas) (1.17.0)\n",
      "Downloading copulas-0.12.1-py3-none-any.whl (52 kB)\n",
      "\u001b[2K   \u001b[90m━━━━━━━━━━━━━━━━━━━━━━━━━━━━━━━━━━━━━━━━\u001b[0m \u001b[32m52.5/52.5 kB\u001b[0m \u001b[31m9.6 MB/s\u001b[0m eta \u001b[36m0:00:00\u001b[0m\n",
      "\u001b[?25hDownloading plotly-6.0.0-py3-none-any.whl (14.8 MB)\n",
      "\u001b[2K   \u001b[90m━━━━━━━━━━━━━━━━━━━━━━━━━━━━━━━━━━━━━━━━\u001b[0m \u001b[32m14.8/14.8 MB\u001b[0m \u001b[31m11.2 MB/s\u001b[0m eta \u001b[36m0:00:00\u001b[0m00:01\u001b[0m00:01\u001b[0m\n",
      "\u001b[?25hDownloading scipy-1.15.2-cp311-cp311-manylinux_2_17_x86_64.manylinux2014_x86_64.whl (37.6 MB)\n",
      "\u001b[2K   \u001b[90m━━━━━━━━━━━━━━━━━━━━━━━━━━━━━━━━━━━━━━━━\u001b[0m \u001b[32m37.6/37.6 MB\u001b[0m \u001b[31m10.9 MB/s\u001b[0m eta \u001b[36m0:00:00\u001b[0m00:01\u001b[0m00:01\u001b[0m\n",
      "\u001b[?25hDownloading narwhals-1.27.1-py3-none-any.whl (308 kB)\n",
      "\u001b[2K   \u001b[90m━━━━━━━━━━━━━━━━━━━━━━━━━━━━━━━━━━━━━━━━\u001b[0m \u001b[32m308.8/308.8 kB\u001b[0m \u001b[31m11.1 MB/s\u001b[0m eta \u001b[36m0:00:00\u001b[0m\n",
      "\u001b[?25hInstalling collected packages: scipy, narwhals, plotly, copulas\n",
      "Successfully installed copulas-0.12.1 narwhals-1.27.1 plotly-6.0.0 scipy-1.15.2\n",
      "\n",
      "\u001b[1m[\u001b[0m\u001b[34;49mnotice\u001b[0m\u001b[1;39;49m]\u001b[0m\u001b[39;49m A new release of pip is available: \u001b[0m\u001b[31;49m24.0\u001b[0m\u001b[39;49m -> \u001b[0m\u001b[32;49m25.0.1\u001b[0m\n",
      "\u001b[1m[\u001b[0m\u001b[34;49mnotice\u001b[0m\u001b[1;39;49m]\u001b[0m\u001b[39;49m To update, run: \u001b[0m\u001b[32;49mpip install --upgrade pip\u001b[0m\n",
      "Note: you may need to restart the kernel to use updated packages.\n"
     ]
    }
   ],
   "source": [
    "%pip install copulas numpy pandas matplotlib psycopg"
   ]
  },
  {
   "cell_type": "code",
   "execution_count": null,
   "metadata": {},
   "outputs": [],
   "source": [
    "import numpy as np\n",
    "import pandas as pd\n",
    "import matplotlib.pyplot as plt\n",
    "import io\n"
   ]
  },
  {
   "cell_type": "markdown",
   "metadata": {},
   "source": [
    "### Template to generate data using normal distribution"
   ]
  },
  {
   "cell_type": "code",
   "execution_count": 3,
   "metadata": {},
   "outputs": [
    {
     "name": "stdout",
     "output_type": "stream",
     "text": [
      "[125.13896329  83.33549345  88.45064363  91.34173322 112.79441006\n",
      "  89.05217455  73.71674475  62.18200157  82.53847126  93.27803989]\n"
     ]
    }
   ],
   "source": [
    "mean = 0          # Mean (μ)\n",
    "std_dev = 1       # Standard deviation (σ)\n",
    "sample_size = 1000\n",
    "\n",
    "data = np.random.normal(loc=mean, scale=std_dev, size=sample_size)\n",
    "\n",
    "print(data[:10])"
   ]
  },
  {
   "cell_type": "code",
   "execution_count": null,
   "metadata": {},
   "outputs": [
    {
     "name": "stdout",
     "output_type": "stream",
     "text": [
      "   subject_id             datetime     reading\n",
      "0           1  2025-01-01 00:00:00  101.709086\n",
      "1           1  2025-01-02 00:00:00   83.901030\n",
      "2           1  2025-01-03 00:00:00   96.980613\n",
      "3           1  2025-01-04 00:00:00  103.326948\n",
      "4           1  2025-01-05 00:00:00   94.593801\n",
      "5           1  2025-01-06 00:00:00  109.057325\n",
      "6           1  2025-01-07 00:00:00  100.794202\n",
      "7           1  2025-01-08 00:00:00   89.871521\n",
      "8           1  2025-01-09 00:00:00   88.848135\n",
      "9           1  2025-01-10 00:00:00   97.995166\n"
     ]
    }
   ],
   "source": [
    "mean = 100\n",
    "std_dev = 15\n",
    "num_samples = 1000\n",
    "time = pd.date_range(start='2025-01-01', periods=num_samples, freq='D')\n",
    "time = time.strftime('%Y-%m-%d %H:%M:%S')\n",
    "\n",
    "synthetic_glucose = np.random.normal(loc=mean, scale=std_dev, size=num_samples)\n",
    "df = pd.DataFrame({'subject_id': 1, 'data_type': 1,'datetime': time, 'reading': synthetic_glucose})\n",
    "\n",
    "# plt.figure(figsize=(10, 6))\n",
    "# plt.plot(df'Date'] label='Glucose Levels')\n",
    "# plt.title('Glucose Level Time Series')\n",
    "# plt.xlabel('Date')\n",
    "# plt.ylabel('Glucose Level (mg/dL)')\n",
    "# plt.grid(True)\n",
    "# plt.xticks(rotation=45)\n",
    "# plt.legend()\n",
    "# plt.show()\n",
    "\n",
    "print(df.head(10))"
   ]
  },
  {
   "cell_type": "code",
   "execution_count": 30,
   "metadata": {},
   "outputs": [
    {
     "name": "stdout",
     "output_type": "stream",
     "text": [
      "    2   4    6\n",
      "0  57  54  150\n",
      "1  59  87  152\n",
      "2  57  54  150\n",
      "3  59  67  152\n",
      "4  57  54  150\n",
      "           2          4           6\n",
      "0  58.195546  70.587374  150.163420\n",
      "1  57.627387  97.562190  150.944499\n",
      "2  57.605791  66.619120  149.768284\n",
      "3  59.045829  76.483731  152.818268\n",
      "4  61.497426  74.915604  150.184029\n"
     ]
    }
   ],
   "source": [
    "data = pd.DataFrame({\n",
    "    2: [57, 59, 57, 59, 57, 59, 57, 59],\n",
    "    4: [54, 87, 54, 67, 54, 77, 54, 97],\n",
    "    6: [150, 152, 150, 152, 150, 152, 150, 152]\n",
    "})\n",
    "\n",
    "print(data.head())\n",
    "\n",
    "num_samples = 1000\n",
    "synthetic_two = np.random.normal(data[2].mean(), data[2].std(), num_samples)\n",
    "synthetic_four = np.random.normal(data[4].mean(), data[4].std(), num_samples)\n",
    "synthetic_six = np.random.normal(data[6].mean(), data[6].std(), num_samples)\n",
    "\n",
    "\n",
    "synthetic_data = pd.DataFrame({\n",
    "    2: synthetic_two,\n",
    "    4: synthetic_four,\n",
    "    6: synthetic_six\n",
    "})\n",
    "\n",
    "print(synthetic_data.head())\n"
   ]
  },
  {
   "cell_type": "markdown",
   "metadata": {},
   "source": [
    "### Data points\n",
    "- Glucose:  90 mg/dL (µ)  15 mg/dL (σ)\n",
    "- Daily Step Counts:  8000 steps/day (µ)  3000 steps/day (σ)"
   ]
  },
  {
   "cell_type": "code",
   "execution_count": null,
   "metadata": {
    "vscode": {
     "languageId": "sql"
    }
   },
   "outputs": [],
   "source": [
    "CREATE TABLE IF NOT EXISTS  readings (\n",
    "    id SERIAL PRIMARY KEY, \n",
    "    subject_id INT, \n",
    "    data_type INT, \n",
    "    datetime TIMESTAMP, \n",
    "    reading DOUBLE PRECISION, \n",
    ");"
   ]
  },
  {
   "cell_type": "code",
   "execution_count": null,
   "metadata": {},
   "outputs": [],
   "source": [
    "import psycopg\n",
    "from psycopg import sql\n",
    "\n",
    "conn = psycopg.connect(\"dbname=test user=postgres password=secret\")\n",
    "cur = conn.cursor()\n",
    "\n",
    "# Data to insert\n",
    "data = [\n",
    "    (1, 'Alice', 'Manager'), \n",
    "    (2, 'Bob', 'Developer'), \n",
    "    (3, 'Charlie', 'Designer')\n",
    "]\n",
    "\n",
    "# Using executemany for bulk insert\n",
    "cur.executemany(\"INSERT INTO employees (id, name, position) VALUES (%s, %s, %s)\", data)\n",
    "\n",
    "conn.commit()\n",
    "cur.close()\n",
    "conn.close()\n",
    "\n",
    "\n",
    "db_params = {\n",
    "    'dbname': 'your_database', \n",
    "    'user': 'your_user', \n",
    "    'password': 'your_password', \n",
    "    'host': 'localhost', \n",
    "    'port': 5432,         \n",
    "}\n",
    "\n",
    "\n",
    "try:\n",
    "    conn = psycopg.connect(**db_params)\n",
    "    cursor = conn.cursor()\n",
    "\n",
    "    create_table_query = '''\n",
    "    CREATE TABLE IF NOT EXISTS employees (\n",
    "        id SERIAL PRIMARY KEY, \n",
    "        name VARCHAR(100), \n",
    "        position VARCHAR(100), \n",
    "        hire_date DATE\n",
    "    );\n",
    "    '''\n",
    "    \n",
    "    cursor.execute(create_table_query)\n",
    "    conn.commit()\n",
    "\n",
    "except Exception as e:\n",
    "    print(f\"An error occurred: {e}\")\n",
    "\n",
    "finally:\n",
    "    if cursor:\n",
    "        cursor.close()\n",
    "    if conn:\n",
    "        conn.close()"
   ]
  },
  {
   "cell_type": "code",
   "execution_count": null,
   "metadata": {},
   "outputs": [],
   "source": [
    "buffer = io.StringIO()\n",
    "df.to_csv(buffer, index=False, header=False)\n",
    "buffer.seek(0)\n",
    "cursor.copy_from(file=buffer, table=table_name, sep=\",\", null=\"\")"
   ]
  },
  {
   "cell_type": "code",
   "execution_count": null,
   "metadata": {
    "vscode": {
     "languageId": "shellscript"
    }
   },
   "outputs": [],
   "source": [
    "docker run -it --rm --name init-script -v \"$PWD\":/usr/src/app -w /usr/src/app python:3.11 python script_to_run.py\n",
    "docker run -it --rm --network superset_default -v \"$PWD\":/usr/src/app -w /usr/src/app python:3.11 /bin/bash -c \"pip install numpy pandas psycopg[binary] && python myscript.py\""
   ]
  },
  {
   "cell_type": "markdown",
   "metadata": {},
   "source": [
    "### Generate Synthetic Data using copulas"
   ]
  },
  {
   "cell_type": "code",
   "execution_count": 29,
   "metadata": {},
   "outputs": [
    {
     "name": "stdout",
     "output_type": "stream",
     "text": [
      "    2   4    6\n",
      "0  57  54  150\n",
      "1  59  87  152\n",
      "2  57  54  150\n",
      "3  59  67  152\n",
      "4  57  54  150\n"
     ]
    },
    {
     "name": "stderr",
     "output_type": "stream",
     "text": [
      "/home/bigaru/projects/lsnotebook/venv/lib64/python3.11/site-packages/scipy/stats/_continuous_distns.py:795: RuntimeWarning: invalid value encountered in sqrt\n",
      "  sk = 2*(b-a)*np.sqrt(a + b + 1) / (a + b + 2) / np.sqrt(a*b)\n",
      "/home/bigaru/projects/lsnotebook/venv/lib64/python3.11/site-packages/scipy/stats/_continuous_distns.py:800: RuntimeWarning: The iteration is not making good progress, as measured by the \n",
      " improvement from the last ten iterations.\n",
      "  a, b = optimize.fsolve(func, (1.0, 1.0))\n",
      "/home/bigaru/projects/lsnotebook/venv/lib64/python3.11/site-packages/scipy/stats/_continuous_distns.py:795: RuntimeWarning: invalid value encountered in sqrt\n",
      "  sk = 2*(b-a)*np.sqrt(a + b + 1) / (a + b + 2) / np.sqrt(a*b)\n",
      "/home/bigaru/projects/lsnotebook/venv/lib64/python3.11/site-packages/scipy/stats/_continuous_distns.py:800: RuntimeWarning: The iteration is not making good progress, as measured by the \n",
      " improvement from the last ten iterations.\n",
      "  a, b = optimize.fsolve(func, (1.0, 1.0))\n"
     ]
    },
    {
     "data": {
      "text/html": [
       "<div>\n",
       "<style scoped>\n",
       "    .dataframe tbody tr th:only-of-type {\n",
       "        vertical-align: middle;\n",
       "    }\n",
       "\n",
       "    .dataframe tbody tr th {\n",
       "        vertical-align: top;\n",
       "    }\n",
       "\n",
       "    .dataframe thead th {\n",
       "        text-align: right;\n",
       "    }\n",
       "</style>\n",
       "<table border=\"1\" class=\"dataframe\">\n",
       "  <thead>\n",
       "    <tr style=\"text-align: right;\">\n",
       "      <th></th>\n",
       "      <th>2</th>\n",
       "      <th>4</th>\n",
       "      <th>6</th>\n",
       "    </tr>\n",
       "  </thead>\n",
       "  <tbody>\n",
       "    <tr>\n",
       "      <th>0</th>\n",
       "      <td>58.791235</td>\n",
       "      <td>62.072673</td>\n",
       "      <td>151.791201</td>\n",
       "    </tr>\n",
       "    <tr>\n",
       "      <th>1</th>\n",
       "      <td>58.198486</td>\n",
       "      <td>70.432915</td>\n",
       "      <td>151.199428</td>\n",
       "    </tr>\n",
       "    <tr>\n",
       "      <th>2</th>\n",
       "      <td>56.952624</td>\n",
       "      <td>52.647679</td>\n",
       "      <td>149.953113</td>\n",
       "    </tr>\n",
       "    <tr>\n",
       "      <th>3</th>\n",
       "      <td>57.442451</td>\n",
       "      <td>61.062875</td>\n",
       "      <td>150.443400</td>\n",
       "    </tr>\n",
       "    <tr>\n",
       "      <th>4</th>\n",
       "      <td>59.143426</td>\n",
       "      <td>77.779518</td>\n",
       "      <td>152.143467</td>\n",
       "    </tr>\n",
       "  </tbody>\n",
       "</table>\n",
       "</div>"
      ],
      "text/plain": [
       "           2          4           6\n",
       "0  58.791235  62.072673  151.791201\n",
       "1  58.198486  70.432915  151.199428\n",
       "2  56.952624  52.647679  149.953113\n",
       "3  57.442451  61.062875  150.443400\n",
       "4  59.143426  77.779518  152.143467"
      ]
     },
     "execution_count": 29,
     "metadata": {},
     "output_type": "execute_result"
    }
   ],
   "source": [
    "from copulas.multivariate import GaussianMultivariate\n",
    "\n",
    "data = pd.DataFrame({\n",
    "    2: [57, 59, 57, 59, 57, 59, 57, 59],\n",
    "    4: [54, 87, 54, 67, 54, 77, 54, 97],\n",
    "    6: [150, 152, 150, 152, 150, 152, 150, 152]\n",
    "})\n",
    "\n",
    "print(data.head())\n",
    "\n",
    "copula = GaussianMultivariate()\n",
    "copula.fit(data)\n",
    "\n",
    "num_samples = 1000\n",
    "\n",
    "synthetic_data = copula.sample(num_samples)\n",
    "synthetic_data.head()"
   ]
  }
 ],
 "metadata": {
  "kernelspec": {
   "display_name": "venv",
   "language": "python",
   "name": "python3"
  },
  "language_info": {
   "codemirror_mode": {
    "name": "ipython",
    "version": 3
   },
   "file_extension": ".py",
   "mimetype": "text/x-python",
   "name": "python",
   "nbconvert_exporter": "python",
   "pygments_lexer": "ipython3",
   "version": "3.11.11"
  }
 },
 "nbformat": 4,
 "nbformat_minor": 2
}
